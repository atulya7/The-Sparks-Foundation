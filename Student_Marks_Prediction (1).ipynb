{
  "nbformat": 4,
  "nbformat_minor": 0,
  "metadata": {
    "colab": {
      "name": "Student Marks Prediction.ipynb",
      "provenance": [],
      "collapsed_sections": []
    },
    "kernelspec": {
      "name": "python3",
      "display_name": "Python 3"
    }
  },
  "cells": [
    {
      "cell_type": "markdown",
      "metadata": {
        "id": "z0ilXAO3iTzm"
      },
      "source": [
        "## **STUDENT MARKS PREDICTION BY ATULYA BHATHEJA**"
      ]
    },
    {
      "cell_type": "markdown",
      "metadata": {
        "id": "l0Yh2g3AiqQn"
      },
      "source": [
        "**Importing Libraries**"
      ]
    },
    {
      "cell_type": "code",
      "metadata": {
        "id": "jhrZnX3Sj1i6"
      },
      "source": [
        "import pandas as pd\n",
        "import numpy as np\n",
        "import matplotlib.pyplot as plt\n",
        "from sklearn.model_selection import train_test_split\n",
        "from sklearn.linear_model import LinearRegression\n",
        "from sklearn.metrics import mean_absolute_error,mean_squared_error"
      ],
      "execution_count": null,
      "outputs": []
    },
    {
      "cell_type": "markdown",
      "metadata": {
        "id": "pcyK6gAHvQzg"
      },
      "source": [
        "**Reading the data**"
      ]
    },
    {
      "cell_type": "code",
      "metadata": {
        "colab": {
          "base_uri": "https://localhost:8080/",
          "height": 195
        },
        "id": "fmq64XnUwbNf",
        "outputId": "00497fb9-cb02-4f2a-813a-284994c4864a"
      },
      "source": [
        "url=\"http://bit.ly/w-data\"\n",
        "data=pd.read_csv(url)\n",
        "data.head()"
      ],
      "execution_count": null,
      "outputs": [
        {
          "output_type": "execute_result",
          "data": {
            "text/html": [
              "<div>\n",
              "<style scoped>\n",
              "    .dataframe tbody tr th:only-of-type {\n",
              "        vertical-align: middle;\n",
              "    }\n",
              "\n",
              "    .dataframe tbody tr th {\n",
              "        vertical-align: top;\n",
              "    }\n",
              "\n",
              "    .dataframe thead th {\n",
              "        text-align: right;\n",
              "    }\n",
              "</style>\n",
              "<table border=\"1\" class=\"dataframe\">\n",
              "  <thead>\n",
              "    <tr style=\"text-align: right;\">\n",
              "      <th></th>\n",
              "      <th>Hours</th>\n",
              "      <th>Scores</th>\n",
              "    </tr>\n",
              "  </thead>\n",
              "  <tbody>\n",
              "    <tr>\n",
              "      <th>0</th>\n",
              "      <td>2.5</td>\n",
              "      <td>21</td>\n",
              "    </tr>\n",
              "    <tr>\n",
              "      <th>1</th>\n",
              "      <td>5.1</td>\n",
              "      <td>47</td>\n",
              "    </tr>\n",
              "    <tr>\n",
              "      <th>2</th>\n",
              "      <td>3.2</td>\n",
              "      <td>27</td>\n",
              "    </tr>\n",
              "    <tr>\n",
              "      <th>3</th>\n",
              "      <td>8.5</td>\n",
              "      <td>75</td>\n",
              "    </tr>\n",
              "    <tr>\n",
              "      <th>4</th>\n",
              "      <td>3.5</td>\n",
              "      <td>30</td>\n",
              "    </tr>\n",
              "  </tbody>\n",
              "</table>\n",
              "</div>"
            ],
            "text/plain": [
              "   Hours  Scores\n",
              "0    2.5      21\n",
              "1    5.1      47\n",
              "2    3.2      27\n",
              "3    8.5      75\n",
              "4    3.5      30"
            ]
          },
          "metadata": {
            "tags": []
          },
          "execution_count": 2
        }
      ]
    },
    {
      "cell_type": "markdown",
      "metadata": {
        "id": "gYzUOrRS0sfH"
      },
      "source": [
        "**Plotting Data to check Relation**"
      ]
    },
    {
      "cell_type": "code",
      "metadata": {
        "colab": {
          "base_uri": "https://localhost:8080/",
          "height": 295
        },
        "id": "Er-aBRcN00iZ",
        "outputId": "f2e7419f-1581-4677-a438-f5f6e12b5420"
      },
      "source": [
        "data.plot(x='Hours',y='Scores',style='*')\n",
        "plt.title('Hours vs Marks Plot' )\n",
        "plt.xlabel('Hours spent studying')\n",
        "plt.ylabel('Percentage Scored')\n",
        "plt.show()"
      ],
      "execution_count": null,
      "outputs": [
        {
          "output_type": "display_data",
          "data": {
            "image/png": "[encoded data removed]",
            "text/plain": [
              "<Figure size 432x288 with 1 Axes>"
            ]
          },
          "metadata": {
            "tags": [],
            "needs_background": "light"
          }
        }
      ]
    },
    {
      "cell_type": "markdown",
      "metadata": {
        "id": "rzDhL7gA14_N"
      },
      "source": [
        "It can be clearly seen that there is linear relation between the 2 entities\n"
      ]
    },
    {
      "cell_type": "markdown",
      "metadata": {
        "id": "HeheQvxi5AL0"
      },
      "source": [
        "**Preparing the data**\n"
      ]
    },
    {
      "cell_type": "code",
      "metadata": {
        "id": "najWJnKf6iQm"
      },
      "source": [
        "x=data.iloc[:,:-1].values\n",
        "y=data.iloc[:,-1].values\n"
      ],
      "execution_count": null,
      "outputs": []
    },
    {
      "cell_type": "code",
      "metadata": {
        "id": "JPMGTHoOcAor"
      },
      "source": [
        "x_train,x_test,y_train,y_test=train_test_split(x,y,test_size=0.25)"
      ],
      "execution_count": null,
      "outputs": []
    },
    {
      "cell_type": "markdown",
      "metadata": {
        "id": "_CNIwUpvcKJA"
      },
      "source": [
        "**Training the Algorithm**"
      ]
    },
    {
      "cell_type": "code",
      "metadata": {
        "id": "8O6eQqD1cSTK"
      },
      "source": [
        "reg=LinearRegression()\n",
        "reg.fit(x_train,y_train)\n",
        "n_jobs=True\n",
        "normalize=True"
      ],
      "execution_count": null,
      "outputs": []
    },
    {
      "cell_type": "code",
      "metadata": {
        "colab": {
          "base_uri": "https://localhost:8080/",
          "height": 268
        },
        "id": "H_miFa07clfv",
        "outputId": "3500309a-6d62-46e6-9aea-8787c5253d02"
      },
      "source": [
        "#Ploting the regressor Line\n",
        "line=reg.coef_*x+reg.intercept_\n",
        "\n",
        "plt.scatter(x,y)\n",
        "plt.plot(x,line,c='black')\n",
        "plt.show()\n"
      ],
      "execution_count": null,
      "outputs": [
        {
          "output_type": "display_data",
          "data": {
            "image/png": "[encoded data removed]",
            "text/plain": [
              "<Figure size 432x288 with 1 Axes>"
            ]
          },
          "metadata": {
            "tags": [],
            "needs_background": "light"
          }
        }
      ]
    },
    {
      "cell_type": "markdown",
      "metadata": {
        "id": "E8gOJcnycwQW"
      },
      "source": [
        "**Predictions**"
      ]
    },
    {
      "cell_type": "code",
      "metadata": {
        "id": "d9PQciaKcz1y"
      },
      "source": [
        "y_pred=reg.predict(x_test)\n"
      ],
      "execution_count": null,
      "outputs": []
    },
    {
      "cell_type": "code",
      "metadata": {
        "colab": {
          "base_uri": "https://localhost:8080/",
          "height": 254
        },
        "id": "9CKaDX-Rc7KU",
        "outputId": "46a9e083-e7ac-40d4-a927-ffc6154b3c7e"
      },
      "source": [
        "df=pd.DataFrame({'Actual':y_test,'Predicted':y_pred})\n",
        "df"
      ],
      "execution_count": null,
      "outputs": [
        {
          "output_type": "execute_result",
          "data": {
            "text/html": [
              "<div>\n",
              "<style scoped>\n",
              "    .dataframe tbody tr th:only-of-type {\n",
              "        vertical-align: middle;\n",
              "    }\n",
              "\n",
              "    .dataframe tbody tr th {\n",
              "        vertical-align: top;\n",
              "    }\n",
              "\n",
              "    .dataframe thead th {\n",
              "        text-align: right;\n",
              "    }\n",
              "</style>\n",
              "<table border=\"1\" class=\"dataframe\">\n",
              "  <thead>\n",
              "    <tr style=\"text-align: right;\">\n",
              "      <th></th>\n",
              "      <th>Actual</th>\n",
              "      <th>Predicted</th>\n",
              "    </tr>\n",
              "  </thead>\n",
              "  <tbody>\n",
              "    <tr>\n",
              "      <th>0</th>\n",
              "      <td>75</td>\n",
              "      <td>89.090475</td>\n",
              "    </tr>\n",
              "    <tr>\n",
              "      <th>1</th>\n",
              "      <td>27</td>\n",
              "      <td>33.871819</td>\n",
              "    </tr>\n",
              "    <tr>\n",
              "      <th>2</th>\n",
              "      <td>30</td>\n",
              "      <td>26.578789</td>\n",
              "    </tr>\n",
              "    <tr>\n",
              "      <th>3</th>\n",
              "      <td>81</td>\n",
              "      <td>87.006752</td>\n",
              "    </tr>\n",
              "    <tr>\n",
              "      <th>4</th>\n",
              "      <td>69</td>\n",
              "      <td>77.629999</td>\n",
              "    </tr>\n",
              "    <tr>\n",
              "      <th>5</th>\n",
              "      <td>42</td>\n",
              "      <td>34.913680</td>\n",
              "    </tr>\n",
              "    <tr>\n",
              "      <th>6</th>\n",
              "      <td>47</td>\n",
              "      <td>53.667186</td>\n",
              "    </tr>\n",
              "  </tbody>\n",
              "</table>\n",
              "</div>"
            ],
            "text/plain": [
              "   Actual  Predicted\n",
              "0      75  89.090475\n",
              "1      27  33.871819\n",
              "2      30  26.578789\n",
              "3      81  87.006752\n",
              "4      69  77.629999\n",
              "5      42  34.913680\n",
              "6      47  53.667186"
            ]
          },
          "metadata": {
            "tags": []
          },
          "execution_count": 9
        }
      ]
    },
    {
      "cell_type": "code",
      "metadata": {
        "colab": {
          "base_uri": "https://localhost:8080/"
        },
        "id": "BY5Z2xO5dOE1",
        "outputId": "3e14cede-1ba8-42a3-b0dd-18d34325ce53"
      },
      "source": [
        "#Self Data Prediction\n",
        "hours=np.array([9.25]).reshape(-1,1)\n",
        "percentage=reg.predict(hours)\n",
        "print(f'Number of hours spent  {hours}')\n",
        "print(f'Expected Percentage {percentage[0]}')\n"
      ],
      "execution_count": null,
      "outputs": [
        {
          "output_type": "stream",
          "text": [
            "Number of hours spent  [[9.25]]\n",
            "Expected Percentage 96.90443585440886\n"
          ],
          "name": "stdout"
        }
      ]
    },
    {
      "cell_type": "markdown",
      "metadata": {
        "id": "k2L7VNXrdZWL"
      },
      "source": [
        "**Evaluating the Model**"
      ]
    },
    {
      "cell_type": "code",
      "metadata": {
        "colab": {
          "base_uri": "https://localhost:8080/"
        },
        "id": "-7CkRWDmdiqx",
        "outputId": "d536666b-073c-4a93-cb4b-078efc36eaaa"
      },
      "source": [
        "print('Mean Absolute Error: ',mean_absolute_error(y_pred,y_test))\n"
      ],
      "execution_count": null,
      "outputs": [
        {
          "output_type": "stream",
          "text": [
            "Mean Absolute Error:  7.539108919367811\n"
          ],
          "name": "stdout"
        }
      ]
    },
    {
      "cell_type": "code",
      "metadata": {
        "colab": {
          "base_uri": "https://localhost:8080/"
        },
        "id": "UwFUPIdAfZmD",
        "outputId": "d6f5ab8b-27cf-4408-cc22-aaad833ce408"
      },
      "source": [
        "print('Mean Squared Error: ',mean_squared_error(y_pred,y_test))\n"
      ],
      "execution_count": null,
      "outputs": [
        {
          "output_type": "stream",
          "text": [
            "Mean Squared Error:  66.09904624774272\n"
          ],
          "name": "stdout"
        }
      ]
    }
  ]
}